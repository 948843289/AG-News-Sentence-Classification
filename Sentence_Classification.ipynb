{
  "nbformat": 4,
  "nbformat_minor": 0,
  "metadata": {
    "colab": {
      "name": "Untitled14.ipynb",
      "version": "0.3.2",
      "provenance": [],
      "include_colab_link": true
    },
    "kernelspec": {
      "name": "python3",
      "display_name": "Python 3"
    }
  },
  "cells": [
    {
      "cell_type": "markdown",
      "metadata": {
        "id": "view-in-github",
        "colab_type": "text"
      },
      "source": [
        "<a href=\"https://colab.research.google.com/github/aayushs879/AG-News-Sentence-Classification/blob/master/Sentence_Classification.ipynb\" target=\"_parent\"><img src=\"https://colab.research.google.com/assets/colab-badge.svg\" alt=\"Open In Colab\"/></a>"
      ]
    },
    {
      "metadata": {
        "id": "2G3qkXaSFTeA",
        "colab_type": "code",
        "outputId": "ce24ada3-4b2a-465a-d2b7-e4e3f1d1c7f0",
        "colab": {
          "base_uri": "https://localhost:8080/",
          "height": 35
        }
      },
      "cell_type": "code",
      "source": [
        "#mounting the drive on the relevant folder\n",
        "from google.colab import drive\n",
        "drive.mount('/content/gdrive')\n",
        "import os\n",
        "path = os.path.abspath('gdrive/My Drive/Spoonshot')\n",
        "os.chdir(os.path.join('gdrive/My Drive',path))"
      ],
      "execution_count": 1,
      "outputs": [
        {
          "output_type": "stream",
          "text": [
            "Drive already mounted at /content/gdrive; to attempt to forcibly remount, call drive.mount(\"/content/gdrive\", force_remount=True).\n"
          ],
          "name": "stdout"
        }
      ]
    },
    {
      "metadata": {
        "id": "6NDiIu-0FqvZ",
        "colab_type": "code",
        "colab": {}
      },
      "cell_type": "code",
      "source": [
        "# necessary imports\n",
        "import numpy as np\n",
        "import pandas as pd\n",
        "import matplotlib.pyplot as plt\n",
        "import seaborn as sns\n",
        "%matplotlib inline"
      ],
      "execution_count": 0,
      "outputs": []
    },
    {
      "metadata": {
        "id": "r46nhWjqF-tc",
        "colab_type": "code",
        "outputId": "c3a7f35e-4531-4cfd-dd57-517e0c0a80c5",
        "colab": {
          "base_uri": "https://localhost:8080/",
          "height": 395
        }
      },
      "cell_type": "code",
      "source": [
        "# importing the dataset and having a quick look around it\n",
        "train = pd.read_csv('train.csv', header = None)\n",
        "train_length = len(train)\n",
        "print(train_length, '\\n')\n",
        "print(train.head())\n",
        "print('\\n')\n",
        "print(train.isnull().sum())"
      ],
      "execution_count": 3,
      "outputs": [
        {
          "output_type": "stream",
          "text": [
            "120000 \n",
            "\n",
            "   0                                                  1  \\\n",
            "0  3  Wall St. Bears Claw Back Into the Black (Reuters)   \n",
            "1  3  Carlyle Looks Toward Commercial Aerospace (Reu...   \n",
            "2  3    Oil and Economy Cloud Stocks' Outlook (Reuters)   \n",
            "3  3  Iraq Halts Oil Exports from Main Southern Pipe...   \n",
            "4  3  Oil prices soar to all-time record, posing new...   \n",
            "\n",
            "                                                   2  \n",
            "0  Reuters - Short-sellers, Wall Street's dwindli...  \n",
            "1  Reuters - Private investment firm Carlyle Grou...  \n",
            "2  Reuters - Soaring crude prices plus worries\\ab...  \n",
            "3  Reuters - Authorities have halted oil export\\f...  \n",
            "4  AFP - Tearaway world oil prices, toppling reco...  \n",
            "\n",
            "\n",
            "0    0\n",
            "1    0\n",
            "2    0\n",
            "dtype: int64\n"
          ],
          "name": "stdout"
        }
      ]
    },
    {
      "metadata": {
        "id": "3_8CSMjxGFvu",
        "colab_type": "code",
        "outputId": "8919815d-fd3d-451c-963f-f96199cbda8f",
        "colab": {
          "base_uri": "https://localhost:8080/",
          "height": 575
        }
      },
      "cell_type": "code",
      "source": [
        "# cool! the dataset has no empty values\n",
        "# adding column names to the dataframe\n",
        "train.columns = ['class', 'title', 'description']\n",
        "print(train.head(10))\n",
        "# having a look about class distribution\n",
        "print('\\n\\n class distribution\\n', pd.value_counts(train['class']))"
      ],
      "execution_count": 4,
      "outputs": [
        {
          "output_type": "stream",
          "text": [
            "   class                                              title  \\\n",
            "0      3  Wall St. Bears Claw Back Into the Black (Reuters)   \n",
            "1      3  Carlyle Looks Toward Commercial Aerospace (Reu...   \n",
            "2      3    Oil and Economy Cloud Stocks' Outlook (Reuters)   \n",
            "3      3  Iraq Halts Oil Exports from Main Southern Pipe...   \n",
            "4      3  Oil prices soar to all-time record, posing new...   \n",
            "5      3        Stocks End Up, But Near Year Lows (Reuters)   \n",
            "6      3               Money Funds Fell in Latest Week (AP)   \n",
            "7      3  Fed minutes show dissent over inflation (USATO...   \n",
            "8      3                            Safety Net (Forbes.com)   \n",
            "9      3            Wall St. Bears Claw Back Into the Black   \n",
            "\n",
            "                                         description  \n",
            "0  Reuters - Short-sellers, Wall Street's dwindli...  \n",
            "1  Reuters - Private investment firm Carlyle Grou...  \n",
            "2  Reuters - Soaring crude prices plus worries\\ab...  \n",
            "3  Reuters - Authorities have halted oil export\\f...  \n",
            "4  AFP - Tearaway world oil prices, toppling reco...  \n",
            "5  Reuters - Stocks ended slightly higher on Frid...  \n",
            "6  AP - Assets of the nation's retail money marke...  \n",
            "7  USATODAY.com - Retail sales bounced back a bit...  \n",
            "8  Forbes.com - After earning a PH.D. in Sociolog...  \n",
            "9   NEW YORK (Reuters) - Short-sellers, Wall Stre...  \n",
            "\n",
            "\n",
            " class distribution\n",
            " 4    30000\n",
            "3    30000\n",
            "2    30000\n",
            "1    30000\n",
            "Name: class, dtype: int64\n"
          ],
          "name": "stdout"
        }
      ]
    },
    {
      "metadata": {
        "id": "wThlRyQFLu9B",
        "colab_type": "code",
        "colab": {}
      },
      "cell_type": "code",
      "source": [
        "# perfect ! the classes are as balanced as it could be\n",
        "import re\n",
        "#function to calculate average words in a text block\n",
        "def avg_word(sentence):\n",
        "    words = sentence.split()\n",
        "    return (sum(len(word) for word in words)/len(words))\n",
        "  \n",
        "#this function addds these word features in the dataframe\n",
        "def include_word_features(df, column_name):\n",
        "  df['word_count'] = df[column_name].apply(lambda x : len(str(x).split(' ')))\n",
        "  df['avg_word'] = df[column_name].apply(lambda x: avg_word(str(x)))\n",
        "  df['char_len'] = df[column_name].apply(lambda x : len(str(x)))"
      ],
      "execution_count": 0,
      "outputs": []
    },
    {
      "metadata": {
        "id": "pw-LHnaKOiqk",
        "colab_type": "code",
        "colab": {}
      },
      "cell_type": "code",
      "source": [
        "#analysing if the features created by us are any good or not\n",
        "#this function plots the mean values of word features according to the class\n",
        "def word_feature_analysis(df):\n",
        "  mean_val = []\n",
        "  for i in range(int(df['class'].nunique()) + 1):\n",
        "    df2 = df[df['class'] == i]\n",
        "    mean_val.append(df2['word_count'].mean()/df2['word_count'].max())\n",
        "  plt.plot(range(5), mean_val, 'r.')\n",
        "\n",
        "  mean_val = []\n",
        "  for i in range(int(df['class'].nunique()) + 1):\n",
        "    df2 = df[df['class'] == i]\n",
        "    mean_val.append(df2['char_len'].mean()/df2['char_len'].max())\n",
        "  plt.plot(range(5), mean_val, 'go')\n",
        "\n",
        "  mean_val = []\n",
        "  for i in range(int(df['class'].nunique()) + 1):\n",
        "    df2 = df[df['class'] == i]\n",
        "    mean_val.append(df2['avg_word'].mean()/df2['avg_word'].max())\n",
        "  plt.plot(range(5), mean_val, 'y^')\n",
        "\n",
        "  plt.legend(['word_count', 'char_len', 'avg_word'])\n",
        "  plt.show()\n"
      ],
      "execution_count": 0,
      "outputs": []
    },
    {
      "metadata": {
        "id": "DgLb_KefQZix",
        "colab_type": "code",
        "outputId": "2008b913-99f0-4a50-b60c-44c62427b4f0",
        "colab": {
          "base_uri": "https://localhost:8080/",
          "height": 267
        }
      },
      "cell_type": "code",
      "source": [
        "include_word_features(train, 'description')\n",
        "word_feature_analysis(train)"
      ],
      "execution_count": 7,
      "outputs": [
        {
          "output_type": "display_data",
          "data": {
            "image/png": "[encoded data removed]",
            "text/plain": [
              "<Figure size 432x288 with 1 Axes>"
            ]
          },
          "metadata": {
            "tags": []
          }
        }
      ]
    },
    {
      "metadata": {
        "id": "CiJ2ujpx6RF_",
        "colab_type": "code",
        "outputId": "f452926c-10dc-43aa-b060-2bd8b251c861",
        "colab": {
          "base_uri": "https://localhost:8080/",
          "height": 197
        }
      },
      "cell_type": "code",
      "source": [
        "#looks like the mean of the avg_word is highly differentiable for the classes \n",
        "#so we will include that as features and will discard others\n",
        "\n",
        "# performing text cleaning\n",
        "\n",
        "import nltk\n",
        "from nltk.corpus import stopwords\n",
        "from textblob import Word\n",
        "nltk.download('averaged_perceptron_tagger')\n",
        "nltk.download('stopwords')\n",
        "nltk.download('punkt')\n",
        "nltk.download('wordnet')\n",
        "sw = set(stopwords.words('english'))\n",
        "\n",
        "#this function removes all the stopwords and punctuation marks from the sentences and also lemmatizes the words\n",
        "def clean_text(sentence):\n",
        "  sentence =  re.sub('[~`!@#$%^&*():;\"{}_/?><\\|.,`0-9]', '', sentence.replace('-', ' '))\n",
        "  words = nltk.word_tokenize(str(sentence).lower())\n",
        "  words = [Word(word).lemmatize() for word in words if not word in sw]\n",
        "  sentence = ' '.join(words)\n",
        "  return sentence\n",
        "\n"
      ],
      "execution_count": 8,
      "outputs": [
        {
          "output_type": "stream",
          "text": [
            "[nltk_data] Downloading package averaged_perceptron_tagger to\n",
            "[nltk_data]     /root/nltk_data...\n",
            "[nltk_data]   Package averaged_perceptron_tagger is already up-to-\n",
            "[nltk_data]       date!\n",
            "[nltk_data] Downloading package stopwords to /root/nltk_data...\n",
            "[nltk_data]   Package stopwords is already up-to-date!\n",
            "[nltk_data] Downloading package punkt to /root/nltk_data...\n",
            "[nltk_data]   Package punkt is already up-to-date!\n",
            "[nltk_data] Downloading package wordnet to /root/nltk_data...\n",
            "[nltk_data]   Package wordnet is already up-to-date!\n"
          ],
          "name": "stdout"
        }
      ]
    },
    {
      "metadata": {
        "id": "mNoYdhmCO4Bz",
        "colab_type": "code",
        "colab": {}
      },
      "cell_type": "code",
      "source": [
        "# applying text cleaning to both the title and descriptions of news\n",
        "train['title'] = train['title'].apply(lambda x: clean_text(x))\n",
        "train['description'] = train['description'].apply(lambda x: clean_text(x))"
      ],
      "execution_count": 0,
      "outputs": []
    },
    {
      "metadata": {
        "id": "zV8GpQjjMDMM",
        "colab_type": "code",
        "colab": {}
      },
      "cell_type": "code",
      "source": [
        "# creating numpy arrays from the dataframe and vectorizing title and description \n",
        "# the value of max_df is lept because all the classes are equally distributed contributing 25% to the whole dataset so we will discard those words which are present in more than 30% of all the samples\n",
        "description = train['description'].iloc[:].values\n",
        "title = train['title'].iloc[:].values\n",
        "avg = train['avg_word'].iloc[:].values\n",
        "avg = (avg - np.mean(avg))/np.std(avg)\n",
        "from sklearn.feature_extraction.text import TfidfVectorizer\n",
        "t_vec = TfidfVectorizer(max_features = 400, ngram_range = (1, 2), max_df = 0.3)\n",
        "d_vec = TfidfVectorizer(max_features = 5000, ngram_range = (1, 3), max_df = 0.3)\n",
        "title = t_vec.fit_transform(title).toarray()\n",
        "description = d_vec.fit_transform(description).toarray()"
      ],
      "execution_count": 0,
      "outputs": []
    },
    {
      "metadata": {
        "id": "RBx-cC3TRXRV",
        "colab_type": "code",
        "colab": {}
      },
      "cell_type": "code",
      "source": [
        "# this is a scheme which generally works, we increase the weights of headlines by an integer so as to give them more importance than the text blocks\n",
        "# i have previously used this technique to increase the performance\n",
        "X = np.concatenate([5*title, description, avg.reshape((train_length, 1))], axis = 1)\n",
        "y = train['class'].iloc[:].values"
      ],
      "execution_count": 0,
      "outputs": []
    },
    {
      "metadata": {
        "id": "5QtROhvxRv0A",
        "colab_type": "code",
        "colab": {}
      },
      "cell_type": "code",
      "source": [
        "del title, description \n",
        "from sklearn.model_selection import cross_val_score\n",
        "from sklearn.naive_bayes import GaussianNB\n",
        "model = GaussianNB()"
      ],
      "execution_count": 0,
      "outputs": []
    },
    {
      "metadata": {
        "id": "c5rR4Pu5RzBX",
        "colab_type": "code",
        "colab": {}
      },
      "cell_type": "code",
      "source": [
        "# applying the same functions to the test set as well \n",
        "test = pd.read_csv('test.csv', header = None)\n",
        "test.columns = ['class', 'title', 'description']\n",
        "include_word_features(test, 'description')\n",
        "test['title'] = test['title'].apply(lambda x: clean_text(x))\n",
        "test['description'] = test['description'].apply(lambda x: clean_text(x))\n",
        "title = test['title'].iloc[:].values\n",
        "description = test['description'].iloc[:].values\n",
        "avg = test['avg_word'].iloc[:].values\n",
        "avg = (avg - np.mean(avg))/np.std(avg)\n",
        "title = t_vec.transform(title).toarray()\n",
        "description = d_vec.transform(description).toarray()\n",
        "x_test = np.concatenate((5*title, description, avg.reshape((len(test), 1))), axis = 1)\n",
        "y_test = test['class'].iloc[:].values"
      ],
      "execution_count": 0,
      "outputs": []
    },
    {
      "metadata": {
        "id": "NXiBKnA6UeTY",
        "colab_type": "code",
        "colab": {
          "base_uri": "https://localhost:8080/",
          "height": 35
        },
        "outputId": "8376e140-e782-48f7-b1ae-29a26608bdf9"
      },
      "cell_type": "code",
      "source": [
        "# fitting the model and checking the accuracy\n",
        "model.fit(X, y)\n",
        "y_hat = model.predict(x_test)\n",
        "print('accuracy is :', (y_test == y_hat).sum()/len(y_hat))"
      ],
      "execution_count": 14,
      "outputs": [
        {
          "output_type": "stream",
          "text": [
            "accuracy is : 0.8568421052631578\n"
          ],
          "name": "stdout"
        }
      ]
    },
    {
      "metadata": {
        "id": "Bc1YOaiCU429",
        "colab_type": "code",
        "colab": {}
      },
      "cell_type": "code",
      "source": [
        ""
      ],
      "execution_count": 0,
      "outputs": []
    }
  ]
}